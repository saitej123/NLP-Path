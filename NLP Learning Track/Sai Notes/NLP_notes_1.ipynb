{
 "metadata": {
  "language_info": {
   "codemirror_mode": {
    "name": "ipython",
    "version": 3
   },
   "file_extension": ".py",
   "mimetype": "text/x-python",
   "name": "python",
   "nbconvert_exporter": "python",
   "pygments_lexer": "ipython3",
   "version": "3.8.5-final"
  },
  "orig_nbformat": 2,
  "kernelspec": {
   "name": "python3",
   "display_name": "Python 3",
   "language": "python"
  }
 },
 "nbformat": 4,
 "nbformat_minor": 2,
 "cells": [
  {
   "source": [
    "### word2vec\n",
    "####  Word2vec (Mikolov et al. 2013) is a framework for learning word vectors\n",
    "### Idea:\n",
    "####  • We have a large corpus (“body”) of text\n",
    "####  • Every word in a fixed vocabulary is represented by a vector\n",
    "####  • Go through each position t in the text, which has a center word c and context (“outside”)  words o\n",
    "#####   Use the similarity of the word vectors for c and o to calculate the probability of o given c (or vice versa)\n",
    "####  • Keep adjusting the word vectors to maximize this probability"
   ],
   "cell_type": "markdown",
   "metadata": {}
  },
  {
   "cell_type": "code",
   "execution_count": null,
   "metadata": {},
   "outputs": [],
   "source": []
  },
  {
   "cell_type": "code",
   "execution_count": null,
   "metadata": {},
   "outputs": [],
   "source": []
  },
  {
   "cell_type": "code",
   "execution_count": 1,
   "metadata": {},
   "outputs": [],
   "source": [
    "from  nltk.corpus import wordnet as wn"
   ]
  },
  {
   "cell_type": "code",
   "execution_count": null,
   "metadata": {},
   "outputs": [],
   "source": []
  }
 ]
}